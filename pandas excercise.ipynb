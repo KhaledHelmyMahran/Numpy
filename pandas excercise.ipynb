{
 "cells": [
  {
   "cell_type": "code",
   "execution_count": null,
   "metadata": {},
   "outputs": [],
   "source": []
  },
  {
   "cell_type": "markdown",
   "metadata": {},
   "source": [
    "# convert Series to dictionary And dictionary to Series "
   ]
  },
  {
   "cell_type": "code",
   "execution_count": 34,
   "metadata": {},
   "outputs": [],
   "source": [
    "import numpy as np \n",
    "import pandas as pd \n",
    "from pandas import Series , DataFrame"
   ]
  },
  {
   "cell_type": "code",
   "execution_count": 35,
   "metadata": {},
   "outputs": [],
   "source": [
    "obj = Series([3,6,9,12])"
   ]
  },
  {
   "cell_type": "code",
   "execution_count": 36,
   "metadata": {},
   "outputs": [
    {
     "data": {
      "text/plain": [
       "0     3\n",
       "1     6\n",
       "2     9\n",
       "3    12\n",
       "dtype: int64"
      ]
     },
     "execution_count": 36,
     "metadata": {},
     "output_type": "execute_result"
    }
   ],
   "source": [
    "obj"
   ]
  },
  {
   "cell_type": "code",
   "execution_count": 37,
   "metadata": {},
   "outputs": [
    {
     "data": {
      "text/plain": [
       "array([ 3,  6,  9, 12], dtype=int64)"
      ]
     },
     "execution_count": 37,
     "metadata": {},
     "output_type": "execute_result"
    }
   ],
   "source": [
    "obj.values"
   ]
  },
  {
   "cell_type": "code",
   "execution_count": 38,
   "metadata": {},
   "outputs": [
    {
     "data": {
      "text/plain": [
       "RangeIndex(start=0, stop=4, step=1)"
      ]
     },
     "execution_count": 38,
     "metadata": {},
     "output_type": "execute_result"
    }
   ],
   "source": [
    "obj.index"
   ]
  },
  {
   "cell_type": "code",
   "execution_count": 44,
   "metadata": {},
   "outputs": [
    {
     "data": {
      "text/plain": [
       "USA        780000\n",
       "Germany      4300\n",
       "China       30000\n",
       "Egypt      120000\n",
       "dtype: int64"
      ]
     },
     "execution_count": 44,
     "metadata": {},
     "output_type": "execute_result"
    }
   ],
   "source": [
    "ww2=Series([780000,4300,30000,120000], index=['USA','Germany','China','Egypt'])\n",
    "ww2"
   ]
  },
  {
   "cell_type": "code",
   "execution_count": 45,
   "metadata": {},
   "outputs": [
    {
     "data": {
      "text/plain": [
       "780000"
      ]
     },
     "execution_count": 45,
     "metadata": {},
     "output_type": "execute_result"
    }
   ],
   "source": [
    "ww2['USA']"
   ]
  },
  {
   "cell_type": "code",
   "execution_count": 46,
   "metadata": {},
   "outputs": [
    {
     "data": {
      "text/plain": [
       "USA      780000\n",
       "Egypt    120000\n",
       "dtype: int64"
      ]
     },
     "execution_count": 46,
     "metadata": {},
     "output_type": "execute_result"
    }
   ],
   "source": [
    "ww2[ww2 > 50000]"
   ]
  },
  {
   "cell_type": "code",
   "execution_count": 47,
   "metadata": {},
   "outputs": [
    {
     "data": {
      "text/plain": [
       "False"
      ]
     },
     "execution_count": 47,
     "metadata": {},
     "output_type": "execute_result"
    }
   ],
   "source": [
    "'china' in ww2"
   ]
  },
  {
   "cell_type": "code",
   "execution_count": 48,
   "metadata": {},
   "outputs": [
    {
     "data": {
      "text/plain": [
       "{'USA': 780000, 'Germany': 4300, 'China': 30000, 'Egypt': 120000}"
      ]
     },
     "execution_count": 48,
     "metadata": {},
     "output_type": "execute_result"
    }
   ],
   "source": [
    "#convert to dictionary \n",
    "ww2_di= ww2.to_dict()\n",
    "ww2_di"
   ]
  },
  {
   "cell_type": "code",
   "execution_count": 49,
   "metadata": {},
   "outputs": [
    {
     "data": {
      "text/plain": [
       "USA        780000\n",
       "Germany      4300\n",
       "China       30000\n",
       "Egypt      120000\n",
       "dtype: int64"
      ]
     },
     "execution_count": 49,
     "metadata": {},
     "output_type": "execute_result"
    }
   ],
   "source": [
    "ww2_ser=Series(ww2_di)\n",
    "ww2_ser"
   ]
  },
  {
   "cell_type": "code",
   "execution_count": 50,
   "metadata": {},
   "outputs": [],
   "source": [
    "count = ['USA','Germany','China','Egypt' , 'Japan']"
   ]
  },
  {
   "cell_type": "code",
   "execution_count": 51,
   "metadata": {},
   "outputs": [
    {
     "data": {
      "text/plain": [
       "USA        780000.0\n",
       "Germany      4300.0\n",
       "China       30000.0\n",
       "Egypt      120000.0\n",
       "Japan           NaN\n",
       "dtype: float64"
      ]
     },
     "execution_count": 51,
     "metadata": {},
     "output_type": "execute_result"
    }
   ],
   "source": [
    "obj=Series(ww2_di , index=count )\n",
    "obj"
   ]
  },
  {
   "cell_type": "code",
   "execution_count": 54,
   "metadata": {},
   "outputs": [
    {
     "data": {
      "text/plain": [
       "USA        False\n",
       "Germany    False\n",
       "China      False\n",
       "Egypt      False\n",
       "Japan       True\n",
       "dtype: bool"
      ]
     },
     "execution_count": 54,
     "metadata": {},
     "output_type": "execute_result"
    }
   ],
   "source": [
    "pd.isnull(obj)"
   ]
  },
  {
   "cell_type": "code",
   "execution_count": 55,
   "metadata": {},
   "outputs": [
    {
     "data": {
      "text/plain": [
       "USA         True\n",
       "Germany     True\n",
       "China       True\n",
       "Egypt       True\n",
       "Japan      False\n",
       "dtype: bool"
      ]
     },
     "execution_count": 55,
     "metadata": {},
     "output_type": "execute_result"
    }
   ],
   "source": [
    "pd.notnull(obj)"
   ]
  },
  {
   "cell_type": "code",
   "execution_count": 56,
   "metadata": {},
   "outputs": [
    {
     "data": {
      "text/plain": [
       "USA        780000\n",
       "Germany      4300\n",
       "China       30000\n",
       "Egypt      120000\n",
       "dtype: int64"
      ]
     },
     "execution_count": 56,
     "metadata": {},
     "output_type": "execute_result"
    }
   ],
   "source": [
    "ww2_ser"
   ]
  },
  {
   "cell_type": "code",
   "execution_count": 57,
   "metadata": {},
   "outputs": [
    {
     "data": {
      "text/plain": [
       "USA        780000.0\n",
       "Germany      4300.0\n",
       "China       30000.0\n",
       "Egypt      120000.0\n",
       "Japan           NaN\n",
       "dtype: float64"
      ]
     },
     "execution_count": 57,
     "metadata": {},
     "output_type": "execute_result"
    }
   ],
   "source": [
    "obj"
   ]
  },
  {
   "cell_type": "code",
   "execution_count": 58,
   "metadata": {},
   "outputs": [
    {
     "data": {
      "text/plain": [
       "China        60000.0\n",
       "Egypt       240000.0\n",
       "Germany       8600.0\n",
       "Japan            NaN\n",
       "USA        1560000.0\n",
       "dtype: float64"
      ]
     },
     "execution_count": 58,
     "metadata": {},
     "output_type": "execute_result"
    }
   ],
   "source": [
    " ww2_ser+ obj"
   ]
  },
  {
   "cell_type": "code",
   "execution_count": 60,
   "metadata": {},
   "outputs": [
    {
     "data": {
      "text/plain": [
       "USA        780000.0\n",
       "Germany      4300.0\n",
       "China       30000.0\n",
       "Egypt      120000.0\n",
       "Japan           NaN\n",
       "Name: ww2, dtype: float64"
      ]
     },
     "execution_count": 60,
     "metadata": {},
     "output_type": "execute_result"
    }
   ],
   "source": [
    "obj.name = 'ww2'\n",
    "obj"
   ]
  },
  {
   "cell_type": "code",
   "execution_count": 62,
   "metadata": {},
   "outputs": [
    {
     "data": {
      "text/plain": [
       "Countries\n",
       "USA        780000.0\n",
       "Germany      4300.0\n",
       "China       30000.0\n",
       "Egypt      120000.0\n",
       "Japan           NaN\n",
       "Name: ww2, dtype: float64"
      ]
     },
     "execution_count": 62,
     "metadata": {},
     "output_type": "execute_result"
    }
   ],
   "source": [
    "obj.index.name = 'Countries'\n",
    "obj"
   ]
  },
  {
   "cell_type": "markdown",
   "metadata": {},
   "source": [
    "# read  and extract data from website like wiki"
   ]
  },
  {
   "cell_type": "code",
   "execution_count": 91,
   "metadata": {},
   "outputs": [
    {
     "name": "stdout",
     "output_type": "stream",
     "text": [
      "Extracted 1 wikitables\n"
     ]
    }
   ],
   "source": [
    "# extract tables from wikipedia \n",
    "from pandas.io.html import read_html \n",
    "page = 'https://en.wikipedia.org/wiki/List_of_countries_and_dependencies_by_population'\n",
    "\n",
    "wikitables = read_html(page , attrs={\"class\":\"wikitable\"} , header=0 )\n",
    "print(\"Extracted {num} wikitables\".format(num=len(wikitables)))"
   ]
  },
  {
   "cell_type": "code",
   "execution_count": 94,
   "metadata": {},
   "outputs": [
    {
     "data": {
      "text/html": [
       "<div>\n",
       "<style scoped>\n",
       "    .dataframe tbody tr th:only-of-type {\n",
       "        vertical-align: middle;\n",
       "    }\n",
       "\n",
       "    .dataframe tbody tr th {\n",
       "        vertical-align: top;\n",
       "    }\n",
       "\n",
       "    .dataframe thead th {\n",
       "        text-align: right;\n",
       "    }\n",
       "</style>\n",
       "<table border=\"1\" class=\"dataframe\">\n",
       "  <thead>\n",
       "    <tr style=\"text-align: right;\">\n",
       "      <th></th>\n",
       "      <th>Rank</th>\n",
       "      <th>Country(or dependent territory)</th>\n",
       "      <th>Population</th>\n",
       "      <th>% of world</th>\n",
       "      <th>Date</th>\n",
       "      <th>Source(official or UN)</th>\n",
       "    </tr>\n",
       "  </thead>\n",
       "  <tbody>\n",
       "    <tr>\n",
       "      <th>0</th>\n",
       "      <td>1</td>\n",
       "      <td>China[b]</td>\n",
       "      <td>1406531360</td>\n",
       "      <td>17.9%</td>\n",
       "      <td>6 Feb 2021</td>\n",
       "      <td>National population clock[3]</td>\n",
       "    </tr>\n",
       "    <tr>\n",
       "      <th>1</th>\n",
       "      <td>2</td>\n",
       "      <td>India[c]</td>\n",
       "      <td>1373017298</td>\n",
       "      <td>17.5%</td>\n",
       "      <td>6 Feb 2021</td>\n",
       "      <td>National population clock[4]</td>\n",
       "    </tr>\n",
       "    <tr>\n",
       "      <th>2</th>\n",
       "      <td>3</td>\n",
       "      <td>United States[d]</td>\n",
       "      <td>331120201</td>\n",
       "      <td>4.22%</td>\n",
       "      <td>6 Feb 2021</td>\n",
       "      <td>National population clock[5]</td>\n",
       "    </tr>\n",
       "    <tr>\n",
       "      <th>3</th>\n",
       "      <td>4</td>\n",
       "      <td>Indonesia</td>\n",
       "      <td>270203917</td>\n",
       "      <td>3.44%</td>\n",
       "      <td>30 Sep 2020</td>\n",
       "      <td>2020 census result[6]</td>\n",
       "    </tr>\n",
       "    <tr>\n",
       "      <th>4</th>\n",
       "      <td>5</td>\n",
       "      <td>Pakistan[e]</td>\n",
       "      <td>225200000</td>\n",
       "      <td>2.87%</td>\n",
       "      <td>1 Jul 2021</td>\n",
       "      <td>UN Projection[2]</td>\n",
       "    </tr>\n",
       "  </tbody>\n",
       "</table>\n",
       "</div>"
      ],
      "text/plain": [
       "  Rank Country(or dependent territory)  Population % of world         Date  \\\n",
       "0    1                        China[b]  1406531360      17.9%   6 Feb 2021   \n",
       "1    2                        India[c]  1373017298      17.5%   6 Feb 2021   \n",
       "2    3                United States[d]   331120201      4.22%   6 Feb 2021   \n",
       "3    4                       Indonesia   270203917      3.44%  30 Sep 2020   \n",
       "4    5                     Pakistan[e]   225200000      2.87%   1 Jul 2021   \n",
       "\n",
       "         Source(official or UN)  \n",
       "0  National population clock[3]  \n",
       "1  National population clock[4]  \n",
       "2  National population clock[5]  \n",
       "3         2020 census result[6]  \n",
       "4              UN Projection[2]  "
      ]
     },
     "execution_count": 94,
     "metadata": {},
     "output_type": "execute_result"
    }
   ],
   "source": [
    "wikitables[0].head()"
   ]
  },
  {
   "cell_type": "code",
   "execution_count": 69,
   "metadata": {},
   "outputs": [
    {
     "data": {
      "text/html": [
       "<div>\n",
       "<style scoped>\n",
       "    .dataframe tbody tr th:only-of-type {\n",
       "        vertical-align: middle;\n",
       "    }\n",
       "\n",
       "    .dataframe tbody tr th {\n",
       "        vertical-align: top;\n",
       "    }\n",
       "\n",
       "    .dataframe thead th {\n",
       "        text-align: right;\n",
       "    }\n",
       "</style>\n",
       "<table border=\"1\" class=\"dataframe\">\n",
       "  <thead>\n",
       "    <tr style=\"text-align: right;\">\n",
       "      <th></th>\n",
       "      <th>Rank</th>\n",
       "      <th>Country(or dependent territory)</th>\n",
       "      <th>Population</th>\n",
       "      <th>% of world</th>\n",
       "      <th>Date</th>\n",
       "      <th>Source(official or UN)</th>\n",
       "    </tr>\n",
       "  </thead>\n",
       "  <tbody>\n",
       "    <tr>\n",
       "      <th>0</th>\n",
       "      <td>1</td>\n",
       "      <td>China[b]</td>\n",
       "      <td>1406531360</td>\n",
       "      <td>17.9%</td>\n",
       "      <td>6 Feb 2021</td>\n",
       "      <td>National population clock[3]</td>\n",
       "    </tr>\n",
       "    <tr>\n",
       "      <th>1</th>\n",
       "      <td>2</td>\n",
       "      <td>India[c]</td>\n",
       "      <td>1373017298</td>\n",
       "      <td>17.5%</td>\n",
       "      <td>6 Feb 2021</td>\n",
       "      <td>National population clock[4]</td>\n",
       "    </tr>\n",
       "    <tr>\n",
       "      <th>2</th>\n",
       "      <td>3</td>\n",
       "      <td>United States[d]</td>\n",
       "      <td>331120201</td>\n",
       "      <td>4.22%</td>\n",
       "      <td>6 Feb 2021</td>\n",
       "      <td>National population clock[5]</td>\n",
       "    </tr>\n",
       "    <tr>\n",
       "      <th>3</th>\n",
       "      <td>4</td>\n",
       "      <td>Indonesia</td>\n",
       "      <td>270203917</td>\n",
       "      <td>3.44%</td>\n",
       "      <td>30 Sep 2020</td>\n",
       "      <td>2020 census result[6]</td>\n",
       "    </tr>\n",
       "    <tr>\n",
       "      <th>4</th>\n",
       "      <td>5</td>\n",
       "      <td>Pakistan[e]</td>\n",
       "      <td>225200000</td>\n",
       "      <td>2.87%</td>\n",
       "      <td>1 Jul 2021</td>\n",
       "      <td>UN Projection[2]</td>\n",
       "    </tr>\n",
       "  </tbody>\n",
       "</table>\n",
       "</div>"
      ],
      "text/plain": [
       "  Rank Country(or dependent territory)  Population % of world         Date  \\\n",
       "0    1                        China[b]  1406531360      17.9%   6 Feb 2021   \n",
       "1    2                        India[c]  1373017298      17.5%   6 Feb 2021   \n",
       "2    3                United States[d]   331120201      4.22%   6 Feb 2021   \n",
       "3    4                       Indonesia   270203917      3.44%  30 Sep 2020   \n",
       "4    5                     Pakistan[e]   225200000      2.87%   1 Jul 2021   \n",
       "\n",
       "         Source(official or UN)  \n",
       "0  National population clock[3]  \n",
       "1  National population clock[4]  \n",
       "2  National population clock[5]  \n",
       "3         2020 census result[6]  \n",
       "4              UN Projection[2]  "
      ]
     },
     "execution_count": 69,
     "metadata": {},
     "output_type": "execute_result"
    }
   ],
   "source": [
    "calls_df = wikitables[0].head()\n",
    "calls_df"
   ]
  },
  {
   "cell_type": "code",
   "execution_count": 95,
   "metadata": {},
   "outputs": [
    {
     "data": {
      "text/html": [
       "<div>\n",
       "<style scoped>\n",
       "    .dataframe tbody tr th:only-of-type {\n",
       "        vertical-align: middle;\n",
       "    }\n",
       "\n",
       "    .dataframe tbody tr th {\n",
       "        vertical-align: top;\n",
       "    }\n",
       "\n",
       "    .dataframe thead th {\n",
       "        text-align: right;\n",
       "    }\n",
       "</style>\n",
       "<table border=\"1\" class=\"dataframe\">\n",
       "  <thead>\n",
       "    <tr style=\"text-align: right;\">\n",
       "      <th></th>\n",
       "      <th>Rank</th>\n",
       "      <th>Country(or dependent territory)</th>\n",
       "      <th>Population</th>\n",
       "      <th>% of world</th>\n",
       "      <th>Date</th>\n",
       "      <th>Source(official or UN)</th>\n",
       "    </tr>\n",
       "  </thead>\n",
       "  <tbody>\n",
       "    <tr>\n",
       "      <th>0</th>\n",
       "      <td>1</td>\n",
       "      <td>China[b]</td>\n",
       "      <td>1406531360</td>\n",
       "      <td>17.9%</td>\n",
       "      <td>6 Feb 2021</td>\n",
       "      <td>National population clock[3]</td>\n",
       "    </tr>\n",
       "    <tr>\n",
       "      <th>1</th>\n",
       "      <td>2</td>\n",
       "      <td>India[c]</td>\n",
       "      <td>1373017298</td>\n",
       "      <td>17.5%</td>\n",
       "      <td>6 Feb 2021</td>\n",
       "      <td>National population clock[4]</td>\n",
       "    </tr>\n",
       "    <tr>\n",
       "      <th>2</th>\n",
       "      <td>3</td>\n",
       "      <td>United States[d]</td>\n",
       "      <td>331120201</td>\n",
       "      <td>4.22%</td>\n",
       "      <td>6 Feb 2021</td>\n",
       "      <td>National population clock[5]</td>\n",
       "    </tr>\n",
       "    <tr>\n",
       "      <th>3</th>\n",
       "      <td>4</td>\n",
       "      <td>Indonesia</td>\n",
       "      <td>270203917</td>\n",
       "      <td>3.44%</td>\n",
       "      <td>30 Sep 2020</td>\n",
       "      <td>2020 census result[6]</td>\n",
       "    </tr>\n",
       "    <tr>\n",
       "      <th>4</th>\n",
       "      <td>5</td>\n",
       "      <td>Pakistan[e]</td>\n",
       "      <td>225200000</td>\n",
       "      <td>2.87%</td>\n",
       "      <td>1 Jul 2021</td>\n",
       "      <td>UN Projection[2]</td>\n",
       "    </tr>\n",
       "    <tr>\n",
       "      <th>...</th>\n",
       "      <td>...</td>\n",
       "      <td>...</td>\n",
       "      <td>...</td>\n",
       "      <td>...</td>\n",
       "      <td>...</td>\n",
       "      <td>...</td>\n",
       "    </tr>\n",
       "    <tr>\n",
       "      <th>237</th>\n",
       "      <td>–</td>\n",
       "      <td>Tokelau (NZ)</td>\n",
       "      <td>1499</td>\n",
       "      <td>0%</td>\n",
       "      <td>18 Oct 2016</td>\n",
       "      <td>2016 census result[212]</td>\n",
       "    </tr>\n",
       "    <tr>\n",
       "      <th>238</th>\n",
       "      <td>195</td>\n",
       "      <td>Vatican City[ab]</td>\n",
       "      <td>825</td>\n",
       "      <td>0%</td>\n",
       "      <td>1 Feb 2019</td>\n",
       "      <td>Monthly national estimate[213]</td>\n",
       "    </tr>\n",
       "    <tr>\n",
       "      <th>239</th>\n",
       "      <td>–</td>\n",
       "      <td>Cocos (Keeling) Islands (Australia)</td>\n",
       "      <td>555</td>\n",
       "      <td>0%</td>\n",
       "      <td>30 Jun 2019</td>\n",
       "      <td>National annual estimate[210]</td>\n",
       "    </tr>\n",
       "    <tr>\n",
       "      <th>240</th>\n",
       "      <td>–</td>\n",
       "      <td>Pitcairn Islands (UK)</td>\n",
       "      <td>50</td>\n",
       "      <td>0%</td>\n",
       "      <td>1 Jan 2020</td>\n",
       "      <td>National annual estimate[214]</td>\n",
       "    </tr>\n",
       "    <tr>\n",
       "      <th>241</th>\n",
       "      <td>NaN</td>\n",
       "      <td>World</td>\n",
       "      <td>7845772000</td>\n",
       "      <td>100%</td>\n",
       "      <td>6 Feb 2021</td>\n",
       "      <td>UN Projection[215]</td>\n",
       "    </tr>\n",
       "  </tbody>\n",
       "</table>\n",
       "<p>242 rows × 6 columns</p>\n",
       "</div>"
      ],
      "text/plain": [
       "    Rank      Country(or dependent territory)  Population % of world  \\\n",
       "0      1                             China[b]  1406531360      17.9%   \n",
       "1      2                             India[c]  1373017298      17.5%   \n",
       "2      3                     United States[d]   331120201      4.22%   \n",
       "3      4                            Indonesia   270203917      3.44%   \n",
       "4      5                          Pakistan[e]   225200000      2.87%   \n",
       "..   ...                                  ...         ...        ...   \n",
       "237    –                         Tokelau (NZ)        1499         0%   \n",
       "238  195                     Vatican City[ab]         825         0%   \n",
       "239    –  Cocos (Keeling) Islands (Australia)         555         0%   \n",
       "240    –                Pitcairn Islands (UK)          50         0%   \n",
       "241  NaN                                World  7845772000       100%   \n",
       "\n",
       "            Date          Source(official or UN)  \n",
       "0     6 Feb 2021    National population clock[3]  \n",
       "1     6 Feb 2021    National population clock[4]  \n",
       "2     6 Feb 2021    National population clock[5]  \n",
       "3    30 Sep 2020           2020 census result[6]  \n",
       "4     1 Jul 2021                UN Projection[2]  \n",
       "..           ...                             ...  \n",
       "237  18 Oct 2016         2016 census result[212]  \n",
       "238   1 Feb 2019  Monthly national estimate[213]  \n",
       "239  30 Jun 2019   National annual estimate[210]  \n",
       "240   1 Jan 2020   National annual estimate[214]  \n",
       "241   6 Feb 2021              UN Projection[215]  \n",
       "\n",
       "[242 rows x 6 columns]"
      ]
     },
     "execution_count": 95,
     "metadata": {},
     "output_type": "execute_result"
    }
   ],
   "source": [
    "calls_df = wikitables[0]\n",
    "calls_df"
   ]
  },
  {
   "cell_type": "code",
   "execution_count": 70,
   "metadata": {},
   "outputs": [
    {
     "data": {
      "text/plain": [
       "Index(['Rank', 'Country(or dependent territory)', 'Population', '% of world',\n",
       "       'Date', 'Source(official or UN)'],\n",
       "      dtype='object')"
      ]
     },
     "execution_count": 70,
     "metadata": {},
     "output_type": "execute_result"
    }
   ],
   "source": [
    "calls_df.columns"
   ]
  },
  {
   "cell_type": "code",
   "execution_count": 96,
   "metadata": {},
   "outputs": [
    {
     "data": {
      "text/plain": [
       "0        1\n",
       "1        2\n",
       "2        3\n",
       "3        4\n",
       "4        5\n",
       "      ... \n",
       "237      –\n",
       "238    195\n",
       "239      –\n",
       "240      –\n",
       "241    NaN\n",
       "Name: Rank, Length: 242, dtype: object"
      ]
     },
     "execution_count": 96,
     "metadata": {},
     "output_type": "execute_result"
    }
   ],
   "source": [
    "calls_df.Rank"
   ]
  },
  {
   "cell_type": "code",
   "execution_count": 76,
   "metadata": {},
   "outputs": [
    {
     "data": {
      "text/plain": [
       "0    1406531360\n",
       "1    1373017298\n",
       "2     331120201\n",
       "3     270203917\n",
       "4     225200000\n",
       "Name: Population, dtype: int64"
      ]
     },
     "execution_count": 76,
     "metadata": {},
     "output_type": "execute_result"
    }
   ],
   "source": [
    "calls_df.Population"
   ]
  },
  {
   "cell_type": "code",
   "execution_count": 84,
   "metadata": {},
   "outputs": [
    {
     "data": {
      "text/plain": [
       "0    National population clock[3]\n",
       "1    National population clock[4]\n",
       "2    National population clock[5]\n",
       "3           2020 census result[6]\n",
       "4                UN Projection[2]\n",
       "Name: Source(official or UN), dtype: object"
      ]
     },
     "execution_count": 84,
     "metadata": {},
     "output_type": "execute_result"
    }
   ],
   "source": [
    "calls_df['Source(official or UN)']"
   ]
  },
  {
   "cell_type": "code",
   "execution_count": null,
   "metadata": {},
   "outputs": [],
   "source": []
  },
  {
   "cell_type": "code",
   "execution_count": 87,
   "metadata": {},
   "outputs": [],
   "source": [
    "import numpy as np\n",
    "import pandas as pd\n",
    "from pandas import Series , DataFrame"
   ]
  },
  {
   "cell_type": "code",
   "execution_count": 97,
   "metadata": {},
   "outputs": [
    {
     "data": {
      "text/html": [
       "<div>\n",
       "<style scoped>\n",
       "    .dataframe tbody tr th:only-of-type {\n",
       "        vertical-align: middle;\n",
       "    }\n",
       "\n",
       "    .dataframe tbody tr th {\n",
       "        vertical-align: top;\n",
       "    }\n",
       "\n",
       "    .dataframe thead th {\n",
       "        text-align: right;\n",
       "    }\n",
       "</style>\n",
       "<table border=\"1\" class=\"dataframe\">\n",
       "  <thead>\n",
       "    <tr style=\"text-align: right;\">\n",
       "      <th></th>\n",
       "      <th>Rank</th>\n",
       "      <th>Date</th>\n",
       "    </tr>\n",
       "  </thead>\n",
       "  <tbody>\n",
       "    <tr>\n",
       "      <th>0</th>\n",
       "      <td>1</td>\n",
       "      <td>6 Feb 2021</td>\n",
       "    </tr>\n",
       "    <tr>\n",
       "      <th>1</th>\n",
       "      <td>2</td>\n",
       "      <td>6 Feb 2021</td>\n",
       "    </tr>\n",
       "    <tr>\n",
       "      <th>2</th>\n",
       "      <td>3</td>\n",
       "      <td>6 Feb 2021</td>\n",
       "    </tr>\n",
       "    <tr>\n",
       "      <th>3</th>\n",
       "      <td>4</td>\n",
       "      <td>30 Sep 2020</td>\n",
       "    </tr>\n",
       "    <tr>\n",
       "      <th>4</th>\n",
       "      <td>5</td>\n",
       "      <td>1 Jul 2021</td>\n",
       "    </tr>\n",
       "    <tr>\n",
       "      <th>...</th>\n",
       "      <td>...</td>\n",
       "      <td>...</td>\n",
       "    </tr>\n",
       "    <tr>\n",
       "      <th>237</th>\n",
       "      <td>–</td>\n",
       "      <td>18 Oct 2016</td>\n",
       "    </tr>\n",
       "    <tr>\n",
       "      <th>238</th>\n",
       "      <td>195</td>\n",
       "      <td>1 Feb 2019</td>\n",
       "    </tr>\n",
       "    <tr>\n",
       "      <th>239</th>\n",
       "      <td>–</td>\n",
       "      <td>30 Jun 2019</td>\n",
       "    </tr>\n",
       "    <tr>\n",
       "      <th>240</th>\n",
       "      <td>–</td>\n",
       "      <td>1 Jan 2020</td>\n",
       "    </tr>\n",
       "    <tr>\n",
       "      <th>241</th>\n",
       "      <td>NaN</td>\n",
       "      <td>6 Feb 2021</td>\n",
       "    </tr>\n",
       "  </tbody>\n",
       "</table>\n",
       "<p>242 rows × 2 columns</p>\n",
       "</div>"
      ],
      "text/plain": [
       "    Rank         Date\n",
       "0      1   6 Feb 2021\n",
       "1      2   6 Feb 2021\n",
       "2      3   6 Feb 2021\n",
       "3      4  30 Sep 2020\n",
       "4      5   1 Jul 2021\n",
       "..   ...          ...\n",
       "237    –  18 Oct 2016\n",
       "238  195   1 Feb 2019\n",
       "239    –  30 Jun 2019\n",
       "240    –   1 Jan 2020\n",
       "241  NaN   6 Feb 2021\n",
       "\n",
       "[242 rows x 2 columns]"
      ]
     },
     "execution_count": 97,
     "metadata": {},
     "output_type": "execute_result"
    }
   ],
   "source": [
    "DataFrame(calls_df,columns=['Rank','Date'])"
   ]
  },
  {
   "cell_type": "code",
   "execution_count": 98,
   "metadata": {},
   "outputs": [
    {
     "data": {
      "text/html": [
       "<div>\n",
       "<style scoped>\n",
       "    .dataframe tbody tr th:only-of-type {\n",
       "        vertical-align: middle;\n",
       "    }\n",
       "\n",
       "    .dataframe tbody tr th {\n",
       "        vertical-align: top;\n",
       "    }\n",
       "\n",
       "    .dataframe thead th {\n",
       "        text-align: right;\n",
       "    }\n",
       "</style>\n",
       "<table border=\"1\" class=\"dataframe\">\n",
       "  <thead>\n",
       "    <tr style=\"text-align: right;\">\n",
       "      <th></th>\n",
       "      <th>Rank</th>\n",
       "      <th>Country(or dependent territory)</th>\n",
       "      <th>Population</th>\n",
       "      <th>% of world</th>\n",
       "      <th>Date</th>\n",
       "      <th>Source(official or UN)</th>\n",
       "    </tr>\n",
       "  </thead>\n",
       "  <tbody>\n",
       "    <tr>\n",
       "      <th>0</th>\n",
       "      <td>1</td>\n",
       "      <td>China[b]</td>\n",
       "      <td>1406531360</td>\n",
       "      <td>17.9%</td>\n",
       "      <td>6 Feb 2021</td>\n",
       "      <td>National population clock[3]</td>\n",
       "    </tr>\n",
       "    <tr>\n",
       "      <th>1</th>\n",
       "      <td>2</td>\n",
       "      <td>India[c]</td>\n",
       "      <td>1373017298</td>\n",
       "      <td>17.5%</td>\n",
       "      <td>6 Feb 2021</td>\n",
       "      <td>National population clock[4]</td>\n",
       "    </tr>\n",
       "    <tr>\n",
       "      <th>2</th>\n",
       "      <td>3</td>\n",
       "      <td>United States[d]</td>\n",
       "      <td>331120201</td>\n",
       "      <td>4.22%</td>\n",
       "      <td>6 Feb 2021</td>\n",
       "      <td>National population clock[5]</td>\n",
       "    </tr>\n",
       "  </tbody>\n",
       "</table>\n",
       "</div>"
      ],
      "text/plain": [
       "  Rank Country(or dependent territory)  Population % of world        Date  \\\n",
       "0    1                        China[b]  1406531360      17.9%  6 Feb 2021   \n",
       "1    2                        India[c]  1373017298      17.5%  6 Feb 2021   \n",
       "2    3                United States[d]   331120201      4.22%  6 Feb 2021   \n",
       "\n",
       "         Source(official or UN)  \n",
       "0  National population clock[3]  \n",
       "1  National population clock[4]  \n",
       "2  National population clock[5]  "
      ]
     },
     "execution_count": 98,
     "metadata": {},
     "output_type": "execute_result"
    }
   ],
   "source": [
    "calls_df.head(3)"
   ]
  },
  {
   "cell_type": "code",
   "execution_count": 99,
   "metadata": {},
   "outputs": [
    {
     "data": {
      "text/html": [
       "<div>\n",
       "<style scoped>\n",
       "    .dataframe tbody tr th:only-of-type {\n",
       "        vertical-align: middle;\n",
       "    }\n",
       "\n",
       "    .dataframe tbody tr th {\n",
       "        vertical-align: top;\n",
       "    }\n",
       "\n",
       "    .dataframe thead th {\n",
       "        text-align: right;\n",
       "    }\n",
       "</style>\n",
       "<table border=\"1\" class=\"dataframe\">\n",
       "  <thead>\n",
       "    <tr style=\"text-align: right;\">\n",
       "      <th></th>\n",
       "      <th>Rank</th>\n",
       "      <th>Country(or dependent territory)</th>\n",
       "      <th>Population</th>\n",
       "      <th>% of world</th>\n",
       "      <th>Date</th>\n",
       "      <th>Source(official or UN)</th>\n",
       "    </tr>\n",
       "  </thead>\n",
       "  <tbody>\n",
       "    <tr>\n",
       "      <th>239</th>\n",
       "      <td>–</td>\n",
       "      <td>Cocos (Keeling) Islands (Australia)</td>\n",
       "      <td>555</td>\n",
       "      <td>0%</td>\n",
       "      <td>30 Jun 2019</td>\n",
       "      <td>National annual estimate[210]</td>\n",
       "    </tr>\n",
       "    <tr>\n",
       "      <th>240</th>\n",
       "      <td>–</td>\n",
       "      <td>Pitcairn Islands (UK)</td>\n",
       "      <td>50</td>\n",
       "      <td>0%</td>\n",
       "      <td>1 Jan 2020</td>\n",
       "      <td>National annual estimate[214]</td>\n",
       "    </tr>\n",
       "    <tr>\n",
       "      <th>241</th>\n",
       "      <td>NaN</td>\n",
       "      <td>World</td>\n",
       "      <td>7845772000</td>\n",
       "      <td>100%</td>\n",
       "      <td>6 Feb 2021</td>\n",
       "      <td>UN Projection[215]</td>\n",
       "    </tr>\n",
       "  </tbody>\n",
       "</table>\n",
       "</div>"
      ],
      "text/plain": [
       "    Rank      Country(or dependent territory)  Population % of world  \\\n",
       "239    –  Cocos (Keeling) Islands (Australia)         555         0%   \n",
       "240    –                Pitcairn Islands (UK)          50         0%   \n",
       "241  NaN                                World  7845772000       100%   \n",
       "\n",
       "            Date         Source(official or UN)  \n",
       "239  30 Jun 2019  National annual estimate[210]  \n",
       "240   1 Jan 2020  National annual estimate[214]  \n",
       "241   6 Feb 2021             UN Projection[215]  "
      ]
     },
     "execution_count": 99,
     "metadata": {},
     "output_type": "execute_result"
    }
   ],
   "source": [
    "calls_df.tail(3)"
   ]
  },
  {
   "cell_type": "code",
   "execution_count": 102,
   "metadata": {},
   "outputs": [
    {
     "data": {
      "text/plain": [
       "3"
      ]
     },
     "execution_count": 102,
     "metadata": {},
     "output_type": "execute_result"
    }
   ],
   "source": [
    "calls_df.index[3]"
   ]
  },
  {
   "cell_type": "code",
   "execution_count": 113,
   "metadata": {},
   "outputs": [],
   "source": [
    "calls_df['stadium'] = 'Levi Std'"
   ]
  },
  {
   "cell_type": "code",
   "execution_count": 114,
   "metadata": {},
   "outputs": [
    {
     "data": {
      "text/html": [
       "<div>\n",
       "<style scoped>\n",
       "    .dataframe tbody tr th:only-of-type {\n",
       "        vertical-align: middle;\n",
       "    }\n",
       "\n",
       "    .dataframe tbody tr th {\n",
       "        vertical-align: top;\n",
       "    }\n",
       "\n",
       "    .dataframe thead th {\n",
       "        text-align: right;\n",
       "    }\n",
       "</style>\n",
       "<table border=\"1\" class=\"dataframe\">\n",
       "  <thead>\n",
       "    <tr style=\"text-align: right;\">\n",
       "      <th></th>\n",
       "      <th>Rank</th>\n",
       "      <th>Country(or dependent territory)</th>\n",
       "      <th>Population</th>\n",
       "      <th>% of world</th>\n",
       "      <th>Date</th>\n",
       "      <th>Source(official or UN)</th>\n",
       "      <th>stadium</th>\n",
       "    </tr>\n",
       "  </thead>\n",
       "  <tbody>\n",
       "    <tr>\n",
       "      <th>0</th>\n",
       "      <td>1</td>\n",
       "      <td>China[b]</td>\n",
       "      <td>1406531360</td>\n",
       "      <td>17.9%</td>\n",
       "      <td>6 Feb 2021</td>\n",
       "      <td>National population clock[3]</td>\n",
       "      <td>Levi Std</td>\n",
       "    </tr>\n",
       "    <tr>\n",
       "      <th>1</th>\n",
       "      <td>2</td>\n",
       "      <td>India[c]</td>\n",
       "      <td>1373017298</td>\n",
       "      <td>17.5%</td>\n",
       "      <td>6 Feb 2021</td>\n",
       "      <td>National population clock[4]</td>\n",
       "      <td>Levi Std</td>\n",
       "    </tr>\n",
       "    <tr>\n",
       "      <th>2</th>\n",
       "      <td>3</td>\n",
       "      <td>United States[d]</td>\n",
       "      <td>331120201</td>\n",
       "      <td>4.22%</td>\n",
       "      <td>6 Feb 2021</td>\n",
       "      <td>National population clock[5]</td>\n",
       "      <td>Levi Std</td>\n",
       "    </tr>\n",
       "    <tr>\n",
       "      <th>3</th>\n",
       "      <td>4</td>\n",
       "      <td>Indonesia</td>\n",
       "      <td>270203917</td>\n",
       "      <td>3.44%</td>\n",
       "      <td>30 Sep 2020</td>\n",
       "      <td>2020 census result[6]</td>\n",
       "      <td>Levi Std</td>\n",
       "    </tr>\n",
       "    <tr>\n",
       "      <th>4</th>\n",
       "      <td>5</td>\n",
       "      <td>Pakistan[e]</td>\n",
       "      <td>225200000</td>\n",
       "      <td>2.87%</td>\n",
       "      <td>1 Jul 2021</td>\n",
       "      <td>UN Projection[2]</td>\n",
       "      <td>Levi Std</td>\n",
       "    </tr>\n",
       "    <tr>\n",
       "      <th>...</th>\n",
       "      <td>...</td>\n",
       "      <td>...</td>\n",
       "      <td>...</td>\n",
       "      <td>...</td>\n",
       "      <td>...</td>\n",
       "      <td>...</td>\n",
       "      <td>...</td>\n",
       "    </tr>\n",
       "    <tr>\n",
       "      <th>237</th>\n",
       "      <td>–</td>\n",
       "      <td>Tokelau (NZ)</td>\n",
       "      <td>1499</td>\n",
       "      <td>0%</td>\n",
       "      <td>18 Oct 2016</td>\n",
       "      <td>2016 census result[212]</td>\n",
       "      <td>Levi Std</td>\n",
       "    </tr>\n",
       "    <tr>\n",
       "      <th>238</th>\n",
       "      <td>195</td>\n",
       "      <td>Vatican City[ab]</td>\n",
       "      <td>825</td>\n",
       "      <td>0%</td>\n",
       "      <td>1 Feb 2019</td>\n",
       "      <td>Monthly national estimate[213]</td>\n",
       "      <td>Levi Std</td>\n",
       "    </tr>\n",
       "    <tr>\n",
       "      <th>239</th>\n",
       "      <td>–</td>\n",
       "      <td>Cocos (Keeling) Islands (Australia)</td>\n",
       "      <td>555</td>\n",
       "      <td>0%</td>\n",
       "      <td>30 Jun 2019</td>\n",
       "      <td>National annual estimate[210]</td>\n",
       "      <td>Levi Std</td>\n",
       "    </tr>\n",
       "    <tr>\n",
       "      <th>240</th>\n",
       "      <td>–</td>\n",
       "      <td>Pitcairn Islands (UK)</td>\n",
       "      <td>50</td>\n",
       "      <td>0%</td>\n",
       "      <td>1 Jan 2020</td>\n",
       "      <td>National annual estimate[214]</td>\n",
       "      <td>Levi Std</td>\n",
       "    </tr>\n",
       "    <tr>\n",
       "      <th>241</th>\n",
       "      <td>NaN</td>\n",
       "      <td>World</td>\n",
       "      <td>7845772000</td>\n",
       "      <td>100%</td>\n",
       "      <td>6 Feb 2021</td>\n",
       "      <td>UN Projection[215]</td>\n",
       "      <td>Levi Std</td>\n",
       "    </tr>\n",
       "  </tbody>\n",
       "</table>\n",
       "<p>242 rows × 7 columns</p>\n",
       "</div>"
      ],
      "text/plain": [
       "    Rank      Country(or dependent territory)  Population % of world  \\\n",
       "0      1                             China[b]  1406531360      17.9%   \n",
       "1      2                             India[c]  1373017298      17.5%   \n",
       "2      3                     United States[d]   331120201      4.22%   \n",
       "3      4                            Indonesia   270203917      3.44%   \n",
       "4      5                          Pakistan[e]   225200000      2.87%   \n",
       "..   ...                                  ...         ...        ...   \n",
       "237    –                         Tokelau (NZ)        1499         0%   \n",
       "238  195                     Vatican City[ab]         825         0%   \n",
       "239    –  Cocos (Keeling) Islands (Australia)         555         0%   \n",
       "240    –                Pitcairn Islands (UK)          50         0%   \n",
       "241  NaN                                World  7845772000       100%   \n",
       "\n",
       "            Date          Source(official or UN)   stadium  \n",
       "0     6 Feb 2021    National population clock[3]  Levi Std  \n",
       "1     6 Feb 2021    National population clock[4]  Levi Std  \n",
       "2     6 Feb 2021    National population clock[5]  Levi Std  \n",
       "3    30 Sep 2020           2020 census result[6]  Levi Std  \n",
       "4     1 Jul 2021                UN Projection[2]  Levi Std  \n",
       "..           ...                             ...       ...  \n",
       "237  18 Oct 2016         2016 census result[212]  Levi Std  \n",
       "238   1 Feb 2019  Monthly national estimate[213]  Levi Std  \n",
       "239  30 Jun 2019   National annual estimate[210]  Levi Std  \n",
       "240   1 Jan 2020   National annual estimate[214]  Levi Std  \n",
       "241   6 Feb 2021              UN Projection[215]  Levi Std  \n",
       "\n",
       "[242 rows x 7 columns]"
      ]
     },
     "execution_count": 114,
     "metadata": {},
     "output_type": "execute_result"
    }
   ],
   "source": [
    "calls_df"
   ]
  },
  {
   "cell_type": "code",
   "execution_count": 115,
   "metadata": {},
   "outputs": [
    {
     "data": {
      "text/html": [
       "<div>\n",
       "<style scoped>\n",
       "    .dataframe tbody tr th:only-of-type {\n",
       "        vertical-align: middle;\n",
       "    }\n",
       "\n",
       "    .dataframe tbody tr th {\n",
       "        vertical-align: top;\n",
       "    }\n",
       "\n",
       "    .dataframe thead th {\n",
       "        text-align: right;\n",
       "    }\n",
       "</style>\n",
       "<table border=\"1\" class=\"dataframe\">\n",
       "  <thead>\n",
       "    <tr style=\"text-align: right;\">\n",
       "      <th></th>\n",
       "      <th>Rank</th>\n",
       "      <th>Country(or dependent territory)</th>\n",
       "      <th>Population</th>\n",
       "      <th>% of world</th>\n",
       "      <th>Date</th>\n",
       "      <th>Source(official or UN)</th>\n",
       "    </tr>\n",
       "  </thead>\n",
       "  <tbody>\n",
       "    <tr>\n",
       "      <th>0</th>\n",
       "      <td>1</td>\n",
       "      <td>China[b]</td>\n",
       "      <td>1406531360</td>\n",
       "      <td>17.9%</td>\n",
       "      <td>6 Feb 2021</td>\n",
       "      <td>National population clock[3]</td>\n",
       "    </tr>\n",
       "    <tr>\n",
       "      <th>1</th>\n",
       "      <td>2</td>\n",
       "      <td>India[c]</td>\n",
       "      <td>1373017298</td>\n",
       "      <td>17.5%</td>\n",
       "      <td>6 Feb 2021</td>\n",
       "      <td>National population clock[4]</td>\n",
       "    </tr>\n",
       "    <tr>\n",
       "      <th>2</th>\n",
       "      <td>3</td>\n",
       "      <td>United States[d]</td>\n",
       "      <td>331120201</td>\n",
       "      <td>4.22%</td>\n",
       "      <td>6 Feb 2021</td>\n",
       "      <td>National population clock[5]</td>\n",
       "    </tr>\n",
       "    <tr>\n",
       "      <th>3</th>\n",
       "      <td>4</td>\n",
       "      <td>Indonesia</td>\n",
       "      <td>270203917</td>\n",
       "      <td>3.44%</td>\n",
       "      <td>30 Sep 2020</td>\n",
       "      <td>2020 census result[6]</td>\n",
       "    </tr>\n",
       "    <tr>\n",
       "      <th>4</th>\n",
       "      <td>5</td>\n",
       "      <td>Pakistan[e]</td>\n",
       "      <td>225200000</td>\n",
       "      <td>2.87%</td>\n",
       "      <td>1 Jul 2021</td>\n",
       "      <td>UN Projection[2]</td>\n",
       "    </tr>\n",
       "    <tr>\n",
       "      <th>...</th>\n",
       "      <td>...</td>\n",
       "      <td>...</td>\n",
       "      <td>...</td>\n",
       "      <td>...</td>\n",
       "      <td>...</td>\n",
       "      <td>...</td>\n",
       "    </tr>\n",
       "    <tr>\n",
       "      <th>237</th>\n",
       "      <td>–</td>\n",
       "      <td>Tokelau (NZ)</td>\n",
       "      <td>1499</td>\n",
       "      <td>0%</td>\n",
       "      <td>18 Oct 2016</td>\n",
       "      <td>2016 census result[212]</td>\n",
       "    </tr>\n",
       "    <tr>\n",
       "      <th>238</th>\n",
       "      <td>195</td>\n",
       "      <td>Vatican City[ab]</td>\n",
       "      <td>825</td>\n",
       "      <td>0%</td>\n",
       "      <td>1 Feb 2019</td>\n",
       "      <td>Monthly national estimate[213]</td>\n",
       "    </tr>\n",
       "    <tr>\n",
       "      <th>239</th>\n",
       "      <td>–</td>\n",
       "      <td>Cocos (Keeling) Islands (Australia)</td>\n",
       "      <td>555</td>\n",
       "      <td>0%</td>\n",
       "      <td>30 Jun 2019</td>\n",
       "      <td>National annual estimate[210]</td>\n",
       "    </tr>\n",
       "    <tr>\n",
       "      <th>240</th>\n",
       "      <td>–</td>\n",
       "      <td>Pitcairn Islands (UK)</td>\n",
       "      <td>50</td>\n",
       "      <td>0%</td>\n",
       "      <td>1 Jan 2020</td>\n",
       "      <td>National annual estimate[214]</td>\n",
       "    </tr>\n",
       "    <tr>\n",
       "      <th>241</th>\n",
       "      <td>NaN</td>\n",
       "      <td>World</td>\n",
       "      <td>7845772000</td>\n",
       "      <td>100%</td>\n",
       "      <td>6 Feb 2021</td>\n",
       "      <td>UN Projection[215]</td>\n",
       "    </tr>\n",
       "  </tbody>\n",
       "</table>\n",
       "<p>242 rows × 6 columns</p>\n",
       "</div>"
      ],
      "text/plain": [
       "    Rank      Country(or dependent territory)  Population % of world  \\\n",
       "0      1                             China[b]  1406531360      17.9%   \n",
       "1      2                             India[c]  1373017298      17.5%   \n",
       "2      3                     United States[d]   331120201      4.22%   \n",
       "3      4                            Indonesia   270203917      3.44%   \n",
       "4      5                          Pakistan[e]   225200000      2.87%   \n",
       "..   ...                                  ...         ...        ...   \n",
       "237    –                         Tokelau (NZ)        1499         0%   \n",
       "238  195                     Vatican City[ab]         825         0%   \n",
       "239    –  Cocos (Keeling) Islands (Australia)         555         0%   \n",
       "240    –                Pitcairn Islands (UK)          50         0%   \n",
       "241  NaN                                World  7845772000       100%   \n",
       "\n",
       "            Date          Source(official or UN)  \n",
       "0     6 Feb 2021    National population clock[3]  \n",
       "1     6 Feb 2021    National population clock[4]  \n",
       "2     6 Feb 2021    National population clock[5]  \n",
       "3    30 Sep 2020           2020 census result[6]  \n",
       "4     1 Jul 2021                UN Projection[2]  \n",
       "..           ...                             ...  \n",
       "237  18 Oct 2016         2016 census result[212]  \n",
       "238   1 Feb 2019  Monthly national estimate[213]  \n",
       "239  30 Jun 2019   National annual estimate[210]  \n",
       "240   1 Jan 2020   National annual estimate[214]  \n",
       "241   6 Feb 2021              UN Projection[215]  \n",
       "\n",
       "[242 rows x 6 columns]"
      ]
     },
     "execution_count": 115,
     "metadata": {},
     "output_type": "execute_result"
    }
   ],
   "source": [
    "del calls_df['stadium']\n",
    "calls_df"
   ]
  },
  {
   "cell_type": "code",
   "execution_count": 116,
   "metadata": {},
   "outputs": [
    {
     "data": {
      "text/html": [
       "<div>\n",
       "<style scoped>\n",
       "    .dataframe tbody tr th:only-of-type {\n",
       "        vertical-align: middle;\n",
       "    }\n",
       "\n",
       "    .dataframe tbody tr th {\n",
       "        vertical-align: top;\n",
       "    }\n",
       "\n",
       "    .dataframe thead th {\n",
       "        text-align: right;\n",
       "    }\n",
       "</style>\n",
       "<table border=\"1\" class=\"dataframe\">\n",
       "  <thead>\n",
       "    <tr style=\"text-align: right;\">\n",
       "      <th></th>\n",
       "      <th>Rank</th>\n",
       "      <th>Country(or dependent territory)</th>\n",
       "      <th>Population</th>\n",
       "      <th>% of world</th>\n",
       "      <th>Date</th>\n",
       "      <th>Source(official or UN)</th>\n",
       "    </tr>\n",
       "  </thead>\n",
       "  <tbody>\n",
       "    <tr>\n",
       "      <th>0</th>\n",
       "      <td>1</td>\n",
       "      <td>China[b]</td>\n",
       "      <td>1406531360</td>\n",
       "      <td>17.9%</td>\n",
       "      <td>6 Feb 2021</td>\n",
       "      <td>National population clock[3]</td>\n",
       "    </tr>\n",
       "    <tr>\n",
       "      <th>1</th>\n",
       "      <td>2</td>\n",
       "      <td>India[c]</td>\n",
       "      <td>1373017298</td>\n",
       "      <td>17.5%</td>\n",
       "      <td>6 Feb 2021</td>\n",
       "      <td>National population clock[4]</td>\n",
       "    </tr>\n",
       "    <tr>\n",
       "      <th>2</th>\n",
       "      <td>3</td>\n",
       "      <td>United States[d]</td>\n",
       "      <td>331120201</td>\n",
       "      <td>4.22%</td>\n",
       "      <td>6 Feb 2021</td>\n",
       "      <td>National population clock[5]</td>\n",
       "    </tr>\n",
       "    <tr>\n",
       "      <th>3</th>\n",
       "      <td>4</td>\n",
       "      <td>Indonesia</td>\n",
       "      <td>270203917</td>\n",
       "      <td>3.44%</td>\n",
       "      <td>30 Sep 2020</td>\n",
       "      <td>2020 census result[6]</td>\n",
       "    </tr>\n",
       "    <tr>\n",
       "      <th>4</th>\n",
       "      <td>5</td>\n",
       "      <td>Pakistan[e]</td>\n",
       "      <td>225200000</td>\n",
       "      <td>2.87%</td>\n",
       "      <td>1 Jul 2021</td>\n",
       "      <td>UN Projection[2]</td>\n",
       "    </tr>\n",
       "    <tr>\n",
       "      <th>...</th>\n",
       "      <td>...</td>\n",
       "      <td>...</td>\n",
       "      <td>...</td>\n",
       "      <td>...</td>\n",
       "      <td>...</td>\n",
       "      <td>...</td>\n",
       "    </tr>\n",
       "    <tr>\n",
       "      <th>237</th>\n",
       "      <td>–</td>\n",
       "      <td>Tokelau (NZ)</td>\n",
       "      <td>1499</td>\n",
       "      <td>0%</td>\n",
       "      <td>18 Oct 2016</td>\n",
       "      <td>2016 census result[212]</td>\n",
       "    </tr>\n",
       "    <tr>\n",
       "      <th>238</th>\n",
       "      <td>195</td>\n",
       "      <td>Vatican City[ab]</td>\n",
       "      <td>825</td>\n",
       "      <td>0%</td>\n",
       "      <td>1 Feb 2019</td>\n",
       "      <td>Monthly national estimate[213]</td>\n",
       "    </tr>\n",
       "    <tr>\n",
       "      <th>239</th>\n",
       "      <td>–</td>\n",
       "      <td>Cocos (Keeling) Islands (Australia)</td>\n",
       "      <td>555</td>\n",
       "      <td>0%</td>\n",
       "      <td>30 Jun 2019</td>\n",
       "      <td>National annual estimate[210]</td>\n",
       "    </tr>\n",
       "    <tr>\n",
       "      <th>240</th>\n",
       "      <td>–</td>\n",
       "      <td>Pitcairn Islands (UK)</td>\n",
       "      <td>50</td>\n",
       "      <td>0%</td>\n",
       "      <td>1 Jan 2020</td>\n",
       "      <td>National annual estimate[214]</td>\n",
       "    </tr>\n",
       "    <tr>\n",
       "      <th>241</th>\n",
       "      <td>NaN</td>\n",
       "      <td>World</td>\n",
       "      <td>7845772000</td>\n",
       "      <td>100%</td>\n",
       "      <td>6 Feb 2021</td>\n",
       "      <td>UN Projection[215]</td>\n",
       "    </tr>\n",
       "  </tbody>\n",
       "</table>\n",
       "<p>242 rows × 6 columns</p>\n",
       "</div>"
      ],
      "text/plain": [
       "    Rank      Country(or dependent territory)  Population % of world  \\\n",
       "0      1                             China[b]  1406531360      17.9%   \n",
       "1      2                             India[c]  1373017298      17.5%   \n",
       "2      3                     United States[d]   331120201      4.22%   \n",
       "3      4                            Indonesia   270203917      3.44%   \n",
       "4      5                          Pakistan[e]   225200000      2.87%   \n",
       "..   ...                                  ...         ...        ...   \n",
       "237    –                         Tokelau (NZ)        1499         0%   \n",
       "238  195                     Vatican City[ab]         825         0%   \n",
       "239    –  Cocos (Keeling) Islands (Australia)         555         0%   \n",
       "240    –                Pitcairn Islands (UK)          50         0%   \n",
       "241  NaN                                World  7845772000       100%   \n",
       "\n",
       "            Date          Source(official or UN)  \n",
       "0     6 Feb 2021    National population clock[3]  \n",
       "1     6 Feb 2021    National population clock[4]  \n",
       "2     6 Feb 2021    National population clock[5]  \n",
       "3    30 Sep 2020           2020 census result[6]  \n",
       "4     1 Jul 2021                UN Projection[2]  \n",
       "..           ...                             ...  \n",
       "237  18 Oct 2016         2016 census result[212]  \n",
       "238   1 Feb 2019  Monthly national estimate[213]  \n",
       "239  30 Jun 2019   National annual estimate[210]  \n",
       "240   1 Jan 2020   National annual estimate[214]  \n",
       "241   6 Feb 2021              UN Projection[215]  \n",
       "\n",
       "[242 rows x 6 columns]"
      ]
     },
     "execution_count": 116,
     "metadata": {},
     "output_type": "execute_result"
    }
   ],
   "source": [
    "calls_df"
   ]
  },
  {
   "cell_type": "code",
   "execution_count": null,
   "metadata": {},
   "outputs": [],
   "source": []
  },
  {
   "cell_type": "code",
   "execution_count": null,
   "metadata": {},
   "outputs": [],
   "source": []
  },
  {
   "cell_type": "code",
   "execution_count": null,
   "metadata": {},
   "outputs": [],
   "source": []
  },
  {
   "cell_type": "code",
   "execution_count": null,
   "metadata": {},
   "outputs": [],
   "source": []
  },
  {
   "cell_type": "code",
   "execution_count": null,
   "metadata": {},
   "outputs": [],
   "source": []
  },
  {
   "cell_type": "code",
   "execution_count": null,
   "metadata": {},
   "outputs": [],
   "source": []
  },
  {
   "cell_type": "code",
   "execution_count": null,
   "metadata": {},
   "outputs": [],
   "source": []
  },
  {
   "cell_type": "code",
   "execution_count": null,
   "metadata": {},
   "outputs": [],
   "source": []
  },
  {
   "cell_type": "code",
   "execution_count": null,
   "metadata": {},
   "outputs": [],
   "source": []
  },
  {
   "cell_type": "code",
   "execution_count": null,
   "metadata": {},
   "outputs": [],
   "source": []
  },
  {
   "cell_type": "code",
   "execution_count": null,
   "metadata": {},
   "outputs": [],
   "source": []
  }
 ],
 "metadata": {
  "kernelspec": {
   "display_name": "Python 3",
   "language": "python",
   "name": "python3"
  },
  "language_info": {
   "codemirror_mode": {
    "name": "ipython",
    "version": 3
   },
   "file_extension": ".py",
   "mimetype": "text/x-python",
   "name": "python",
   "nbconvert_exporter": "python",
   "pygments_lexer": "ipython3",
   "version": "3.8.5"
  }
 },
 "nbformat": 4,
 "nbformat_minor": 4
}
